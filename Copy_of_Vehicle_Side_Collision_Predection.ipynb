{
  "cells": [
    {
      "cell_type": "markdown",
      "metadata": {
        "id": "view-in-github",
        "colab_type": "text"
      },
      "source": [
        "<a href=\"https://colab.research.google.com/github/zaccleong/Vehicle_Collision_Classification/blob/main/Copy_of_Vehicle_Side_Collision_Predection.ipynb\" target=\"_parent\"><img src=\"https://colab.research.google.com/assets/colab-badge.svg\" alt=\"Open In Colab\"/></a>"
      ]
    },
    {
      "cell_type": "code",
      "execution_count": null,
      "metadata": {
        "id": "6itwibQuYwYh"
      },
      "outputs": [],
      "source": [
        "import numpy as np\n",
        "import seaborn as sb\n",
        "import pandas as pd\n",
        "import glob\n",
        "import csv\n",
        "import matplotlib.pyplot as plt\n",
        "from sklearn import metrics\n",
        "from sklearn.ensemble import RandomForestClassifier\n",
        "from sklearn.metrics import precision_score\n",
        "from sklearn.metrics import recall_score\n",
        "from sklearn.metrics import f1_score\n",
        "from sklearn.metrics import confusion_matrix\n",
        "from sklearn.metrics import plot_confusion_matrix\n",
        "from sklearn.metrics import classification_report\n",
        "from sklearn.inspection import permutation_importance\n",
        "import xgboost\n",
        "from xgboost import XGBClassifier\n",
        "from sklearn.neural_network import MLPClassifier\n",
        "import torch\n",
        "import torch.nn as nn\n",
        "import torch.optim as optim\n",
        "from torch.utils.data import Dataset, DataLoader\n",
        "from sklearn.preprocessing import StandardScaler    \n",
        "from sklearn.model_selection import train_test_split"
      ]
    },
    {
      "cell_type": "code",
      "execution_count": null,
      "metadata": {
        "id": "TsIqe9okYwYl"
      },
      "outputs": [],
      "source": [
        "# Read the relevant training feature files and append a column of labels\n",
        "training_list = [\n",
        "                'features_export_side_relative_car0_20_car1_10_clean.csv',\n",
        "                'features_export_side_relative_car0_20_car1_12_clean.csv',\n",
        "                'features_export_side_relative_car0_20_car1_14_clean.csv',\n",
        "                'features_export_side_relative_car0_20_car1_16_clean.csv',\n",
        "                'features_export_side_relative_car0_20_car1_18_clean.csv',\n",
        "                'features_export_side_relative_car0_20_car1_20_clean.csv',\n",
        "                'features_export_side_relative_car0_20_car1_22_clean.csv',\n",
        "                'features_export_side_relative_car0_20_car1_24_clean.csv',\n",
        "                'features_export_side_relative_car0_20_car1_26_clean.csv',\n",
        "                'features_export_side_relative_car0_20_car1_28_clean.csv',\n",
        "                'features_export_side_relative_car0_20_car1_30_clean.csv']\n",
        "\n",
        "\n",
        "# Specify your training features file location\n",
        "PATH = \"C:\\\\...\\\\features_csv\\\\\"\n",
        "\n",
        "feature_df_list = []\n",
        "#Feature export CSV files\n",
        "for file in glob.glob(PATH+\"*.csv\"):\n",
        "\n",
        "    x = file.split(\"\\\\\")\n",
        "    \n",
        "    if x[-1] in str(training_list):\n",
        "\n",
        "        with open(file) as csvfile:\n",
        "            feature = pd.read_csv(csvfile)\n",
        "            \n",
        "            collision_list = []\n",
        "            # Append a column to the feature dataframe for the collision labels\n",
        "            for i in range(len(feature)):\n",
        "                if i >= (len(feature) - 31):\n",
        "                    collision_label = 1\n",
        "                else:\n",
        "                    collision_label = 0                \n",
        "                collision_list.append(collision_label)\n",
        "                        \n",
        "            feature['collision'] = collision_list\n",
        "            feature_df_list.append(feature)\n",
        "\n",
        "training_df_features = pd.concat(feature_df_list)"
      ]
    },
    {
      "cell_type": "code",
      "execution_count": null,
      "metadata": {
        "scrolled": true,
        "id": "vNZyFaizYwYm",
        "outputId": "01a22974-d092-4fd4-f031-d3bbdc176e93"
      },
      "outputs": [
        {
          "data": {
            "text/html": [
              "<div>\n",
              "<style scoped>\n",
              "    .dataframe tbody tr th:only-of-type {\n",
              "        vertical-align: middle;\n",
              "    }\n",
              "\n",
              "    .dataframe tbody tr th {\n",
              "        vertical-align: top;\n",
              "    }\n",
              "\n",
              "    .dataframe thead th {\n",
              "        text-align: right;\n",
              "    }\n",
              "</style>\n",
              "<table border=\"1\" class=\"dataframe\">\n",
              "  <thead>\n",
              "    <tr style=\"text-align: right;\">\n",
              "      <th></th>\n",
              "      <th>dist0</th>\n",
              "      <th>dist1</th>\n",
              "      <th>dist2</th>\n",
              "      <th>dist3</th>\n",
              "      <th>dist4</th>\n",
              "      <th>dist5</th>\n",
              "      <th>dist6</th>\n",
              "      <th>dist7</th>\n",
              "      <th>dist8</th>\n",
              "      <th>dist9</th>\n",
              "      <th>...</th>\n",
              "      <th>dist30</th>\n",
              "      <th>dist_min</th>\n",
              "      <th>dist_mean</th>\n",
              "      <th>projected_dist_1</th>\n",
              "      <th>projected_dist_2</th>\n",
              "      <th>projected_dist_3</th>\n",
              "      <th>projected_dist_min</th>\n",
              "      <th>projected_dist_mean</th>\n",
              "      <th>binary_intersect</th>\n",
              "      <th>collision</th>\n",
              "    </tr>\n",
              "  </thead>\n",
              "  <tbody>\n",
              "    <tr>\n",
              "      <th>0</th>\n",
              "      <td>291.091639</td>\n",
              "      <td>288.855712</td>\n",
              "      <td>286.619785</td>\n",
              "      <td>284.383858</td>\n",
              "      <td>282.147932</td>\n",
              "      <td>279.912005</td>\n",
              "      <td>277.676079</td>\n",
              "      <td>275.440153</td>\n",
              "      <td>273.204228</td>\n",
              "      <td>270.968302</td>\n",
              "      <td>...</td>\n",
              "      <td>224.013943</td>\n",
              "      <td>224.013943</td>\n",
              "      <td>257.552768</td>\n",
              "      <td>268.732377</td>\n",
              "      <td>246.373142</td>\n",
              "      <td>224.013943</td>\n",
              "      <td>224.013943</td>\n",
              "      <td>246.373154</td>\n",
              "      <td>0</td>\n",
              "      <td>0</td>\n",
              "    </tr>\n",
              "    <tr>\n",
              "      <th>1</th>\n",
              "      <td>288.855712</td>\n",
              "      <td>286.619785</td>\n",
              "      <td>284.383858</td>\n",
              "      <td>282.147932</td>\n",
              "      <td>279.912005</td>\n",
              "      <td>277.676079</td>\n",
              "      <td>275.440153</td>\n",
              "      <td>273.204228</td>\n",
              "      <td>270.968302</td>\n",
              "      <td>268.732377</td>\n",
              "      <td>...</td>\n",
              "      <td>221.778025</td>\n",
              "      <td>221.778025</td>\n",
              "      <td>255.316845</td>\n",
              "      <td>266.496452</td>\n",
              "      <td>244.137221</td>\n",
              "      <td>221.778025</td>\n",
              "      <td>221.778025</td>\n",
              "      <td>244.137233</td>\n",
              "      <td>0</td>\n",
              "      <td>0</td>\n",
              "    </tr>\n",
              "    <tr>\n",
              "      <th>2</th>\n",
              "      <td>286.619785</td>\n",
              "      <td>284.383858</td>\n",
              "      <td>282.147932</td>\n",
              "      <td>279.912005</td>\n",
              "      <td>277.676079</td>\n",
              "      <td>275.440153</td>\n",
              "      <td>273.204228</td>\n",
              "      <td>270.968302</td>\n",
              "      <td>268.732377</td>\n",
              "      <td>266.496452</td>\n",
              "      <td>...</td>\n",
              "      <td>219.542108</td>\n",
              "      <td>219.542108</td>\n",
              "      <td>253.080923</td>\n",
              "      <td>264.260528</td>\n",
              "      <td>241.901299</td>\n",
              "      <td>219.542108</td>\n",
              "      <td>219.542108</td>\n",
              "      <td>241.901312</td>\n",
              "      <td>0</td>\n",
              "      <td>0</td>\n",
              "    </tr>\n",
              "    <tr>\n",
              "      <th>3</th>\n",
              "      <td>284.383858</td>\n",
              "      <td>282.147932</td>\n",
              "      <td>279.912005</td>\n",
              "      <td>277.676079</td>\n",
              "      <td>275.440153</td>\n",
              "      <td>273.204228</td>\n",
              "      <td>270.968302</td>\n",
              "      <td>268.732377</td>\n",
              "      <td>266.496452</td>\n",
              "      <td>264.260528</td>\n",
              "      <td>...</td>\n",
              "      <td>217.306191</td>\n",
              "      <td>217.306191</td>\n",
              "      <td>250.845000</td>\n",
              "      <td>262.024604</td>\n",
              "      <td>239.665378</td>\n",
              "      <td>217.306191</td>\n",
              "      <td>217.306191</td>\n",
              "      <td>239.665391</td>\n",
              "      <td>0</td>\n",
              "      <td>0</td>\n",
              "    </tr>\n",
              "    <tr>\n",
              "      <th>4</th>\n",
              "      <td>282.147932</td>\n",
              "      <td>279.912005</td>\n",
              "      <td>277.676079</td>\n",
              "      <td>275.440153</td>\n",
              "      <td>273.204228</td>\n",
              "      <td>270.968302</td>\n",
              "      <td>268.732377</td>\n",
              "      <td>266.496452</td>\n",
              "      <td>264.260528</td>\n",
              "      <td>262.024604</td>\n",
              "      <td>...</td>\n",
              "      <td>215.070275</td>\n",
              "      <td>215.070275</td>\n",
              "      <td>248.609078</td>\n",
              "      <td>259.788680</td>\n",
              "      <td>237.429458</td>\n",
              "      <td>215.070275</td>\n",
              "      <td>215.070275</td>\n",
              "      <td>237.429471</td>\n",
              "      <td>0</td>\n",
              "      <td>0</td>\n",
              "    </tr>\n",
              "    <tr>\n",
              "      <th>...</th>\n",
              "      <td>...</td>\n",
              "      <td>...</td>\n",
              "      <td>...</td>\n",
              "      <td>...</td>\n",
              "      <td>...</td>\n",
              "      <td>...</td>\n",
              "      <td>...</td>\n",
              "      <td>...</td>\n",
              "      <td>...</td>\n",
              "      <td>...</td>\n",
              "      <td>...</td>\n",
              "      <td>...</td>\n",
              "      <td>...</td>\n",
              "      <td>...</td>\n",
              "      <td>...</td>\n",
              "      <td>...</td>\n",
              "      <td>...</td>\n",
              "      <td>...</td>\n",
              "      <td>...</td>\n",
              "      <td>...</td>\n",
              "      <td>...</td>\n",
              "    </tr>\n",
              "    <tr>\n",
              "      <th>126</th>\n",
              "      <td>14.042827</td>\n",
              "      <td>10.453006</td>\n",
              "      <td>6.879410</td>\n",
              "      <td>3.373992</td>\n",
              "      <td>1.199151</td>\n",
              "      <td>4.181950</td>\n",
              "      <td>7.715961</td>\n",
              "      <td>11.295131</td>\n",
              "      <td>14.886925</td>\n",
              "      <td>18.483984</td>\n",
              "      <td>...</td>\n",
              "      <td>94.168211</td>\n",
              "      <td>1.199151</td>\n",
              "      <td>42.356757</td>\n",
              "      <td>0.000000</td>\n",
              "      <td>22.083736</td>\n",
              "      <td>58.119203</td>\n",
              "      <td>0.000000</td>\n",
              "      <td>26.734313</td>\n",
              "      <td>1</td>\n",
              "      <td>1</td>\n",
              "    </tr>\n",
              "    <tr>\n",
              "      <th>127</th>\n",
              "      <td>10.453006</td>\n",
              "      <td>6.879410</td>\n",
              "      <td>3.373992</td>\n",
              "      <td>1.199151</td>\n",
              "      <td>4.181950</td>\n",
              "      <td>7.715961</td>\n",
              "      <td>11.295131</td>\n",
              "      <td>14.886925</td>\n",
              "      <td>18.483984</td>\n",
              "      <td>22.083736</td>\n",
              "      <td>...</td>\n",
              "      <td>97.773280</td>\n",
              "      <td>1.199151</td>\n",
              "      <td>45.057739</td>\n",
              "      <td>0.000000</td>\n",
              "      <td>25.685049</td>\n",
              "      <td>61.723886</td>\n",
              "      <td>0.000000</td>\n",
              "      <td>29.136312</td>\n",
              "      <td>1</td>\n",
              "      <td>1</td>\n",
              "    </tr>\n",
              "    <tr>\n",
              "      <th>128</th>\n",
              "      <td>6.879409</td>\n",
              "      <td>3.373992</td>\n",
              "      <td>1.199151</td>\n",
              "      <td>4.181950</td>\n",
              "      <td>7.715961</td>\n",
              "      <td>11.295131</td>\n",
              "      <td>14.886925</td>\n",
              "      <td>18.483984</td>\n",
              "      <td>22.083736</td>\n",
              "      <td>25.685049</td>\n",
              "      <td>...</td>\n",
              "      <td>101.378367</td>\n",
              "      <td>1.199151</td>\n",
              "      <td>47.990815</td>\n",
              "      <td>0.000000</td>\n",
              "      <td>29.287347</td>\n",
              "      <td>65.328639</td>\n",
              "      <td>0.000000</td>\n",
              "      <td>31.538662</td>\n",
              "      <td>1</td>\n",
              "      <td>1</td>\n",
              "    </tr>\n",
              "    <tr>\n",
              "      <th>129</th>\n",
              "      <td>3.373992</td>\n",
              "      <td>1.199151</td>\n",
              "      <td>4.181950</td>\n",
              "      <td>7.715961</td>\n",
              "      <td>11.295131</td>\n",
              "      <td>14.886925</td>\n",
              "      <td>18.483984</td>\n",
              "      <td>22.083736</td>\n",
              "      <td>25.685049</td>\n",
              "      <td>29.287347</td>\n",
              "      <td>...</td>\n",
              "      <td>104.983469</td>\n",
              "      <td>1.199151</td>\n",
              "      <td>51.155463</td>\n",
              "      <td>0.000000</td>\n",
              "      <td>32.890306</td>\n",
              "      <td>68.933450</td>\n",
              "      <td>0.000000</td>\n",
              "      <td>33.941252</td>\n",
              "      <td>1</td>\n",
              "      <td>1</td>\n",
              "    </tr>\n",
              "    <tr>\n",
              "      <th>130</th>\n",
              "      <td>1.199151</td>\n",
              "      <td>4.181950</td>\n",
              "      <td>7.715961</td>\n",
              "      <td>11.295131</td>\n",
              "      <td>14.886925</td>\n",
              "      <td>18.483984</td>\n",
              "      <td>22.083736</td>\n",
              "      <td>25.685049</td>\n",
              "      <td>29.287347</td>\n",
              "      <td>32.890306</td>\n",
              "      <td>...</td>\n",
              "      <td>108.588586</td>\n",
              "      <td>1.199151</td>\n",
              "      <td>54.549482</td>\n",
              "      <td>1.168321</td>\n",
              "      <td>36.493731</td>\n",
              "      <td>72.538312</td>\n",
              "      <td>1.168321</td>\n",
              "      <td>36.733454</td>\n",
              "      <td>0</td>\n",
              "      <td>1</td>\n",
              "    </tr>\n",
              "  </tbody>\n",
              "</table>\n",
              "<p>1441 rows × 40 columns</p>\n",
              "</div>"
            ],
            "text/plain": [
              "          dist0       dist1       dist2       dist3       dist4       dist5  \\\n",
              "0    291.091639  288.855712  286.619785  284.383858  282.147932  279.912005   \n",
              "1    288.855712  286.619785  284.383858  282.147932  279.912005  277.676079   \n",
              "2    286.619785  284.383858  282.147932  279.912005  277.676079  275.440153   \n",
              "3    284.383858  282.147932  279.912005  277.676079  275.440153  273.204228   \n",
              "4    282.147932  279.912005  277.676079  275.440153  273.204228  270.968302   \n",
              "..          ...         ...         ...         ...         ...         ...   \n",
              "126   14.042827   10.453006    6.879410    3.373992    1.199151    4.181950   \n",
              "127   10.453006    6.879410    3.373992    1.199151    4.181950    7.715961   \n",
              "128    6.879409    3.373992    1.199151    4.181950    7.715961   11.295131   \n",
              "129    3.373992    1.199151    4.181950    7.715961   11.295131   14.886925   \n",
              "130    1.199151    4.181950    7.715961   11.295131   14.886925   18.483984   \n",
              "\n",
              "          dist6       dist7       dist8       dist9  ...      dist30  \\\n",
              "0    277.676079  275.440153  273.204228  270.968302  ...  224.013943   \n",
              "1    275.440153  273.204228  270.968302  268.732377  ...  221.778025   \n",
              "2    273.204228  270.968302  268.732377  266.496452  ...  219.542108   \n",
              "3    270.968302  268.732377  266.496452  264.260528  ...  217.306191   \n",
              "4    268.732377  266.496452  264.260528  262.024604  ...  215.070275   \n",
              "..          ...         ...         ...         ...  ...         ...   \n",
              "126    7.715961   11.295131   14.886925   18.483984  ...   94.168211   \n",
              "127   11.295131   14.886925   18.483984   22.083736  ...   97.773280   \n",
              "128   14.886925   18.483984   22.083736   25.685049  ...  101.378367   \n",
              "129   18.483984   22.083736   25.685049   29.287347  ...  104.983469   \n",
              "130   22.083736   25.685049   29.287347   32.890306  ...  108.588586   \n",
              "\n",
              "       dist_min   dist_mean  projected_dist_1  projected_dist_2  \\\n",
              "0    224.013943  257.552768        268.732377        246.373142   \n",
              "1    221.778025  255.316845        266.496452        244.137221   \n",
              "2    219.542108  253.080923        264.260528        241.901299   \n",
              "3    217.306191  250.845000        262.024604        239.665378   \n",
              "4    215.070275  248.609078        259.788680        237.429458   \n",
              "..          ...         ...               ...               ...   \n",
              "126    1.199151   42.356757          0.000000         22.083736   \n",
              "127    1.199151   45.057739          0.000000         25.685049   \n",
              "128    1.199151   47.990815          0.000000         29.287347   \n",
              "129    1.199151   51.155463          0.000000         32.890306   \n",
              "130    1.199151   54.549482          1.168321         36.493731   \n",
              "\n",
              "     projected_dist_3  projected_dist_min  projected_dist_mean  \\\n",
              "0          224.013943          224.013943           246.373154   \n",
              "1          221.778025          221.778025           244.137233   \n",
              "2          219.542108          219.542108           241.901312   \n",
              "3          217.306191          217.306191           239.665391   \n",
              "4          215.070275          215.070275           237.429471   \n",
              "..                ...                 ...                  ...   \n",
              "126         58.119203            0.000000            26.734313   \n",
              "127         61.723886            0.000000            29.136312   \n",
              "128         65.328639            0.000000            31.538662   \n",
              "129         68.933450            0.000000            33.941252   \n",
              "130         72.538312            1.168321            36.733454   \n",
              "\n",
              "     binary_intersect  collision  \n",
              "0                   0          0  \n",
              "1                   0          0  \n",
              "2                   0          0  \n",
              "3                   0          0  \n",
              "4                   0          0  \n",
              "..                ...        ...  \n",
              "126                 1          1  \n",
              "127                 1          1  \n",
              "128                 1          1  \n",
              "129                 1          1  \n",
              "130                 0          1  \n",
              "\n",
              "[1441 rows x 40 columns]"
            ]
          },
          "execution_count": 3,
          "metadata": {},
          "output_type": "execute_result"
        }
      ],
      "source": [
        "final_training_df = training_df_features.drop(['Unnamed: 0', 'step'], axis = 1) \n",
        "final_training_df.to_csv(\"Train.csv\")\n",
        "final_training_df"
      ]
    },
    {
      "cell_type": "code",
      "execution_count": null,
      "metadata": {
        "id": "SPauaFxbYwYo",
        "outputId": "7a840cbe-e75a-48de-be9c-e212f088828e"
      },
      "outputs": [
        {
          "data": {
            "text/plain": [
              "XGBClassifier(base_score=0.5, booster='gbtree', colsample_bylevel=1,\n",
              "              colsample_bynode=1, colsample_bytree=1, eta='0.8', gamma=0,\n",
              "              gpu_id=-1, importance_type='gain', interaction_constraints='',\n",
              "              learning_rate=0.800000012, max_delta_step=0, max_depth='1',\n",
              "              min_child_weight=1, missing=nan, monotone_constraints='()',\n",
              "              n_estimators=100, n_jobs=0, num_parallel_tree=1, random_state=0,\n",
              "              reg_alpha=0, reg_lambda=1, scale_pos_weight=1, subsample=1,\n",
              "              tree_method='exact', validate_parameters=1, verbosity=None)"
            ]
          },
          "execution_count": 4,
          "metadata": {},
          "output_type": "execute_result"
        }
      ],
      "source": [
        "# Training of RF model \n",
        "X = final_training_df.drop('collision', axis=1)\n",
        "y = final_training_df['collision']\n",
        "\n",
        "X_train = X\n",
        "y_train = y\n",
        "\n",
        "rf_clf = RandomForestClassifier(n_estimators = 2000, random_state=34)\n",
        "rf_clf.fit(X_train, y_train)\n",
        "\n",
        "\n",
        "xgb_clf = XGBClassifier(eta = '0.8',max_depth ='1' )\n",
        "xgb_clf.fit(X_train, y_train)\n",
        "\n"
      ]
    },
    {
      "cell_type": "code",
      "execution_count": null,
      "metadata": {
        "id": "gIJYQSH7YwYp",
        "outputId": "53e0634d-4c15-4903-b994-aaa6342ae47c"
      },
      "outputs": [
        {
          "name": "stdout",
          "output_type": "stream",
          "text": [
            "(1441, 39) (1441,)\n"
          ]
        }
      ],
      "source": [
        "print(X.shape, y.shape)"
      ]
    },
    {
      "cell_type": "code",
      "execution_count": null,
      "metadata": {
        "id": "tJAgHCSrYwYp",
        "outputId": "e94265d8-24b0-4e10-9b56-0c9cc9641d1a"
      },
      "outputs": [
        {
          "data": {
            "text/plain": [
              "<bound method NDFrame.describe of      Unnamed: 0  step       dist0       dist1       dist2       dist3  \\\n",
              "0             0   783  296.685571  294.403207  292.120843  289.838480   \n",
              "1             1   784  294.403207  292.120843  289.838480  287.556118   \n",
              "2             2   785  292.120843  289.838480  287.556118  285.273757   \n",
              "3             3   786  289.838480  287.556118  285.273757  282.991396   \n",
              "4             4   787  287.556118  285.273757  282.991396  280.709036   \n",
              "..          ...   ...         ...         ...         ...         ...   \n",
              "126         126   500   15.147147   11.485088    7.848244    4.301058   \n",
              "127         127   501   11.485088    7.848244    4.301058    1.618563   \n",
              "128         128   502    7.848244    4.301058    1.618563    3.735891   \n",
              "129         129   503    4.301057    1.618563    3.735891    7.246413   \n",
              "130         130   504    1.618563    3.735891    7.246413   10.875689   \n",
              "\n",
              "          dist4       dist5       dist6       dist7  ...      dist30  \\\n",
              "0    287.556118  285.273757  282.991396  280.709036  ...  228.215007   \n",
              "1    285.273757  282.991396  280.709036  278.426676  ...  225.932671   \n",
              "2    282.991396  280.709036  278.426676  276.144318  ...  223.650338   \n",
              "3    280.709036  278.426676  276.144318  273.861960  ...  221.368005   \n",
              "4    278.426676  276.144318  273.861960  271.579603  ...  219.085674   \n",
              "..          ...         ...         ...         ...  ...         ...   \n",
              "126    1.618563    3.735891    7.246413   10.875689  ...   95.617693   \n",
              "127    3.735891    7.246413   10.875689   14.535034  ...   99.306137   \n",
              "128    7.246413   10.875689   14.535034   18.206325  ...  102.994617   \n",
              "129   10.875689   14.535034   18.206325   21.883552  ...  106.683129   \n",
              "130   14.535034   18.206325   21.883552   25.564153  ...  110.371668   \n",
              "\n",
              "       dist_min   dist_mean  projected_dist_1  projected_dist_2  \\\n",
              "0    228.215007  262.450221        273.861960        251.038430   \n",
              "1    225.932671  260.167869        271.579603        248.756083   \n",
              "2    223.650338  257.885519        269.297247        246.473736   \n",
              "3    221.368005  255.603169        267.014892        244.191391   \n",
              "4    219.085674  253.320820        264.732537        241.909047   \n",
              "..          ...         ...               ...               ...   \n",
              "126    1.618563   42.856738          0.000000         21.883552   \n",
              "127    1.618563   45.571544          0.000000         25.564153   \n",
              "128    1.618563   48.523465          0.000000         29.246853   \n",
              "129    1.618563   51.711687          0.000000         32.930950   \n",
              "130    1.618563   55.133319          1.168321         36.616021   \n",
              "\n",
              "     projected_dist_3  projected_dist_min  projected_dist_mean  \\\n",
              "0          228.215007          228.215007           251.038466   \n",
              "1          225.932671          225.932671           248.756119   \n",
              "2          223.650338          223.650338           246.473774   \n",
              "3          221.368005          221.368005           244.191429   \n",
              "4          219.085674          219.085674           241.909086   \n",
              "..                ...                 ...                  ...   \n",
              "126         58.736634            0.000000            26.873395   \n",
              "127         62.424299            0.000000            29.329484   \n",
              "128         66.112106            0.000000            31.786320   \n",
              "129         69.800032            0.000000            34.243660   \n",
              "130         73.488059            1.168321            37.090800   \n",
              "\n",
              "     binary_intersect  collision  \n",
              "0                   0          0  \n",
              "1                   0          0  \n",
              "2                   0          0  \n",
              "3                   0          0  \n",
              "4                   0          0  \n",
              "..                ...        ...  \n",
              "126                 1          1  \n",
              "127                 1          1  \n",
              "128                 1          1  \n",
              "129                 1          1  \n",
              "130                 0          1  \n",
              "\n",
              "[1441 rows x 42 columns]>"
            ]
          },
          "execution_count": 47,
          "metadata": {},
          "output_type": "execute_result"
        }
      ],
      "source": [
        "# ML model testing\n",
        "# Specify your testing features file location\n",
        "# PATH = \"C:\\\\...\\\\features_csv\\\\\"\n",
        "\n",
        "testing_list = ['features_export_side_relative_car0_20_car1_11.csv',\n",
        "                'features_export_side_relative_car0_20_car1_13.csv',\n",
        "                'features_export_side_relative_car0_20_car1_15.csv',\n",
        "                'features_export_side_relative_car0_20_car1_17.csv',\n",
        "                'features_export_side_relative_car0_20_car1_19.csv',\n",
        "                'features_export_side_relative_car0_20_car1_21.csv',\n",
        "                'features_export_side_relative_car0_20_car1_23.csv',\n",
        "                'features_export_side_relative_car0_20_car1_25.csv',\n",
        "                'features_export_side_relative_car0_20_car1_27.csv',\n",
        "                'features_export_side_relative_car0_20_car1_29.csv',\n",
        "                'features_export_side_relative_car0_20_car1_31.csv']\n",
        "\n",
        "feature_df_list = []\n",
        "#Testing feature file\n",
        "for file in glob.glob(PATH + \"*.csv\"):\n",
        "\n",
        "    x = file.split(\"\\\\\")\n",
        "    \n",
        "    if x[-1] in str(testing_list):\n",
        "\n",
        "        with open(file) as csvfile:\n",
        "            feature = pd.read_csv(csvfile)\n",
        "            \n",
        "            collision_list = []\n",
        "            # Append a column to the feature dataframe for the collision labels\n",
        "            for i in range(len(feature)):\n",
        "                if i >= (len(feature) - 31):    \n",
        "                    collision_label = 1\n",
        "                else:\n",
        "                    collision_label = 0\n",
        "                \n",
        "                collision_list.append(collision_label)\n",
        "            \n",
        "            feature['collision'] = collision_list\n",
        "            feature_df_list.append(feature)\n",
        "\n",
        "testing_df_features = pd.concat(feature_df_list)\n",
        "\n",
        "testing_df_features.describe()"
      ]
    },
    {
      "cell_type": "code",
      "execution_count": null,
      "metadata": {
        "id": "_wzoWv3-YwYq"
      },
      "outputs": [],
      "source": [
        "final_testing_df = testing_df_features.drop(['Unnamed: 0', 'step'], axis = 1) \n",
        "final_testing_df.to_csv(\"Test.csv\")"
      ]
    },
    {
      "cell_type": "code",
      "execution_count": null,
      "metadata": {
        "id": "uXcFrClRYwYr"
      },
      "outputs": [],
      "source": [
        "# Testing of ML model and calculate precision, recall and F1 score\n"
      ]
    },
    {
      "cell_type": "code",
      "execution_count": null,
      "metadata": {
        "id": "3SmjyLdZYwYr",
        "outputId": "f9e038b8-8aa2-4a68-9699-ac4babf5dddd"
      },
      "outputs": [
        {
          "name": "stdout",
          "output_type": "stream",
          "text": [
            "X Test Shape: (1441, 39) \n",
            "Y Test Shape: (1441,)\n"
          ]
        }
      ],
      "source": [
        "# Testing of ML model \n",
        "X_test = final_testing_df.drop('collision', axis=1)\n",
        "y_test = final_testing_df['collision']\n",
        "\n",
        "\n",
        "y_pred_rf= rf_clf.predict(X_test)\n",
        "y_pred_xgb = xgb_clf.predict(X_test)\n",
        "print(\"X Test Shape:\",X_test.shape,\"\\n\"\n",
        "      \"Y Test Shape:\",y_test.shape)"
      ]
    },
    {
      "cell_type": "code",
      "execution_count": null,
      "metadata": {
        "id": "_Ta5T_C4YwYs",
        "outputId": "6eb6517b-cbbf-48a5-f2ee-7a1ab32b4bb6"
      },
      "outputs": [
        {
          "name": "stdout",
          "output_type": "stream",
          "text": [
            "Random Forest:\n",
            "Precision Score: 0.9941520467836257\n",
            "Recall Score: 0.9970674486803519\n",
            "F1 Score: 0.9956076134699854\n"
          ]
        },
        {
          "data": {
            "text/plain": [
              "<sklearn.metrics._plot.confusion_matrix.ConfusionMatrixDisplay at 0x194d0c885e0>"
            ]
          },
          "execution_count": 12,
          "metadata": {},
          "output_type": "execute_result"
        },
        {
          "data": {
            "image/png": "[encoded data removed]",
            "text/plain": [
              "<Figure size 432x288 with 2 Axes>"
            ]
          },
          "metadata": {
            "needs_background": "light"
          },
          "output_type": "display_data"
        }
      ],
      "source": [
        "#Evaluating RF model\n",
        "print(\"Random Forest:\")\n",
        "print(\"Precision Score:\", precision_score(y_test,y_pred_rf))\n",
        "print(\"Recall Score:\", recall_score(y_test,y_pred_rf))\n",
        "print(\"F1 Score:\", f1_score(y_test,y_pred_rf))\n",
        "\n",
        "plot_confusion_matrix(rf_clf, X_test, y_test, labels=None, sample_weight=None, normalize=None, cmap='YlOrRd', ax=None)"
      ]
    },
    {
      "cell_type": "code",
      "execution_count": null,
      "metadata": {
        "scrolled": true,
        "id": "vlYNO3R6YwYs",
        "outputId": "2f3ff844-8e7e-4ad5-83ba-6017e500248b"
      },
      "outputs": [
        {
          "name": "stdout",
          "output_type": "stream",
          "text": [
            "XGBoost:\n",
            "Precision Score: 0.9935897435897436\n",
            "Recall Score: 0.9090909090909091\n",
            "F1 Score: 0.9494640122511485\n"
          ]
        },
        {
          "data": {
            "text/plain": [
              "<sklearn.metrics._plot.confusion_matrix.ConfusionMatrixDisplay at 0x194d0c7c310>"
            ]
          },
          "execution_count": 13,
          "metadata": {},
          "output_type": "execute_result"
        },
        {
          "data": {
            "image/png": "[encoded data removed]",
            "text/plain": [
              "<Figure size 432x288 with 2 Axes>"
            ]
          },
          "metadata": {
            "needs_background": "light"
          },
          "output_type": "display_data"
        }
      ],
      "source": [
        "#Evaluating XGB model\n",
        "print(\"XGBoost:\")\n",
        "print(\"Precision Score:\", precision_score(y_test,y_pred_xgb))\n",
        "print(\"Recall Score:\", recall_score(y_test,y_pred_xgb))\n",
        "print(\"F1 Score:\", f1_score(y_test,y_pred_xgb))\n",
        "\n",
        "plot_confusion_matrix(xgb_clf, X_test, y_test, labels=None, sample_weight=None, normalize=None, cmap='YlOrRd', ax=None)"
      ]
    },
    {
      "cell_type": "markdown",
      "metadata": {
        "id": "wudAh6CUYwYt"
      },
      "source": [
        "#Searching for best parameters\n",
        "\n",
        "\n",
        "mlp_clf = MLPClassifier()\n",
        "parameter_space = {\n",
        "    'hidden_layer_sizes': [(50,50,50), (50,100,50), (100,)],\n",
        "    'activation': ['tanh', 'relu'],\n",
        "    'solver': ['sgd', 'adam'],\n",
        "    'alpha': [0.0001, 0.05],\n",
        "    'learning_rate': ['constant','adaptive'],\n",
        "}\n",
        "\n",
        "from sklearn.model_selection import GridSearchCV\n",
        "\n",
        "clf = GridSearchCV(mlp_clf, parameter_space, n_jobs=-1, cv=3)\n",
        "clf.fit(X_train, y_train)\n",
        "\n",
        "# Best paramete set\n",
        "print('Best parameters found:\\n', clf.best_params_)\n",
        "\n",
        "# All results\n",
        "means = clf.cv_results_['mean_test_score']\n",
        "stds = clf.cv_results_['std_test_score']\n",
        "for mean, std, params in zip(means, stds, clf.cv_results_['params']):\n",
        "    print(\"%0.3f (+/-%0.03f) for %r\" % (mean, std * 2, params))\n",
        "\n",
        "\n",
        "\n",
        "\n",
        "\n",
        "\n",
        "\n",
        "\n"
      ]
    },
    {
      "cell_type": "code",
      "execution_count": null,
      "metadata": {
        "id": "UMFJRlSCYwYv",
        "outputId": "38f58c64-802c-471f-c5fd-f7905763dd83"
      },
      "outputs": [
        {
          "name": "stdout",
          "output_type": "stream",
          "text": [
            "MLP:\n",
            "Precision Score: 0.9941690962099126\n",
            "Recall Score: 1.0\n",
            "F1 Score: 0.9970760233918129\n"
          ]
        },
        {
          "data": {
            "text/plain": [
              "<sklearn.metrics._plot.confusion_matrix.ConfusionMatrixDisplay at 0x194e6542a30>"
            ]
          },
          "execution_count": 14,
          "metadata": {},
          "output_type": "execute_result"
        },
        {
          "data": {
            "image/png": "[encoded data removed]",
            "text/plain": [
              "<Figure size 432x288 with 2 Axes>"
            ]
          },
          "metadata": {
            "needs_background": "light"
          },
          "output_type": "display_data"
        }
      ],
      "source": [
        "mlp_clf = MLPClassifier(activation= 'tanh', alpha= 0.0001, hidden_layer_sizes= (50, 50, 50), learning_rate= 'constant', solver= 'sgd')\n",
        "\n",
        "mlp_clf.fit(X_train, y_train)\n",
        "\n",
        "\n",
        "y_pred_mlp = mlp_clf.predict(X_test)\n",
        "#Evaluating DNN model\n",
        "print(\"MLP:\")\n",
        "print(\"Precision Score:\", precision_score(y_test,y_pred_mlp))\n",
        "print(\"Recall Score:\", recall_score(y_test,y_pred_mlp))\n",
        "print(\"F1 Score:\", f1_score(y_test,y_pred_mlp))\n",
        "\n",
        "plot_confusion_matrix(mlp_clf, X_test, y_test, labels=None, sample_weight=None, normalize=None, cmap='YlOrRd', ax=None)"
      ]
    },
    {
      "cell_type": "code",
      "execution_count": null,
      "metadata": {
        "id": "SE6AM9AkYwYv",
        "outputId": "78ee2a5c-5cb5-42d2-f5ce-c6bdb55965cb"
      },
      "outputs": [
        {
          "data": {
            "image/png": "[encoded data removed]",
            "text/plain": [
              "<Figure size 864x576 with 1 Axes>"
            ]
          },
          "metadata": {
            "needs_background": "light"
          },
          "output_type": "display_data"
        }
      ],
      "source": [
        "#Plotting feature importances for Random Forest Model\n",
        "\n",
        "\n",
        "features_clf = {}\n",
        "#a dict to hold feature_name: feature_importance\n",
        "for feature, importance in zip(final_testing_df.columns, rf_clf.feature_importances_):\n",
        "    features_clf[feature] = importance #add the name/value pair \n",
        "\n",
        "rf_importances = pd.Series(rf_clf.feature_importances_, index = features_clf)    \n",
        "    \n",
        "fig, ax = plt.subplots()\n",
        "rf_importances.plot.bar()\n",
        "ax.set_title(\"Feature importances\")\n",
        "fig.tight_layout()"
      ]
    },
    {
      "cell_type": "code",
      "execution_count": null,
      "metadata": {
        "id": "h6HXy_BbYwYw",
        "outputId": "71ed289f-81d6-43b4-8af7-a70bce83c1dd"
      },
      "outputs": [
        {
          "data": {
            "image/png": "[encoded data removed]",
            "text/plain": [
              "<Figure size 360x360 with 1 Axes>"
            ]
          },
          "metadata": {
            "needs_background": "light"
          },
          "output_type": "display_data"
        }
      ],
      "source": [
        "#Plotting feature importances for XGBoost Model\n",
        "xgboost.plot_importance(xgb_clf)\n",
        "plt.rcParams['figure.figsize'] = [12, 8]\n",
        "plt.show()\n",
        "\n",
        "#Relative speed"
      ]
    },
    {
      "cell_type": "code",
      "execution_count": null,
      "metadata": {
        "id": "ptTrI-22YwYw",
        "outputId": "479679bb-a107-4ed5-b49b-bbefc51f8ccd"
      },
      "outputs": [
        {
          "ename": "NameError",
          "evalue": "name 'pyplot' is not defined",
          "output_type": "error",
          "traceback": [
            "\u001b[1;31m---------------------------------------------------------------------------\u001b[0m",
            "\u001b[1;31mNameError\u001b[0m                                 Traceback (most recent call last)",
            "\u001b[1;32m<ipython-input-55-3e31af029e3a>\u001b[0m in \u001b[0;36m<module>\u001b[1;34m\u001b[0m\n\u001b[0;32m      1\u001b[0m \u001b[1;31m# plot feature importance\u001b[0m\u001b[1;33m\u001b[0m\u001b[1;33m\u001b[0m\u001b[1;33m\u001b[0m\u001b[0m\n\u001b[0;32m      2\u001b[0m \u001b[0mxgboost\u001b[0m\u001b[1;33m.\u001b[0m\u001b[0mplot_importance\u001b[0m\u001b[1;33m(\u001b[0m\u001b[0mxgb_clf\u001b[0m\u001b[1;33m)\u001b[0m\u001b[1;33m\u001b[0m\u001b[1;33m\u001b[0m\u001b[0m\n\u001b[1;32m----> 3\u001b[1;33m \u001b[0mpyplot\u001b[0m\u001b[1;33m.\u001b[0m\u001b[0mshow\u001b[0m\u001b[1;33m(\u001b[0m\u001b[1;33m)\u001b[0m\u001b[1;33m\u001b[0m\u001b[1;33m\u001b[0m\u001b[0m\n\u001b[0m",
            "\u001b[1;31mNameError\u001b[0m: name 'pyplot' is not defined"
          ]
        },
        {
          "data": {
            "image/png": "[encoded data removed]",
            "text/plain": [
              "<Figure size 864x576 with 1 Axes>"
            ]
          },
          "metadata": {
            "needs_background": "light"
          },
          "output_type": "display_data"
        }
      ],
      "source": [
        "\n",
        "# plot feature importance\n",
        "xgboost.plot_importance(xgb_clf)\n",
        "pyplot.show()"
      ]
    },
    {
      "cell_type": "code",
      "execution_count": null,
      "metadata": {
        "id": "o-MMw70KYwYx",
        "outputId": "e34f83fc-a53a-47f8-d51a-aef9523b4136"
      },
      "outputs": [
        {
          "name": "stdout",
          "output_type": "stream",
          "text": [
            "Precision Score:\n",
            " MLP:      0.9941690962099126 \n",
            " RF:       0.9941520467836257 \n",
            " XGBoost:  0.9935897435897436\n",
            "Recall Score:\n",
            " MLP:      1.0 \n",
            " RF:       0.9970674486803519 \n",
            " XGBoost:  0.9090909090909091\n",
            "F1 Score:\n",
            " MLP:      0.9970760233918129 \n",
            " RF:       0.9956076134699854 \n",
            " XGBoost:  0.9494640122511485\n"
          ]
        }
      ],
      "source": [
        "print(\"Precision Score:\\n\",\"MLP:     \", precision_score(y_test,y_pred_mlp),\"\\n\",\"RF:      \",\n",
        "      precision_score(y_test,y_pred_rf),\"\\n\",\"XGBoost: \",precision_score(y_test,y_pred_xgb))\n",
        "print(\"Recall Score:\\n\",\"MLP:     \", recall_score(y_test,y_pred_mlp),\"\\n\",\"RF:      \",\n",
        "      recall_score(y_test,y_pred_rf),\"\\n\",\"XGBoost: \",recall_score(y_test,y_pred_xgb))\n",
        "print(\"F1 Score:\\n\",\"MLP:     \", f1_score(y_test,y_pred_mlp),\"\\n\",\"RF:      \",\n",
        "      f1_score(y_test,y_pred_rf),\"\\n\",\"XGBoost: \",f1_score(y_test,y_pred_xgb))"
      ]
    },
    {
      "cell_type": "code",
      "execution_count": null,
      "metadata": {
        "id": "Ce1QZGU8YwYx",
        "outputId": "5cfe1979-b583-4353-8f4e-a8a0c7dfbccf"
      },
      "outputs": [
        {
          "data": {
            "text/plain": [
              "0      0\n",
              "1      0\n",
              "2      0\n",
              "3      0\n",
              "4      0\n",
              "      ..\n",
              "126    1\n",
              "127    1\n",
              "128    1\n",
              "129    1\n",
              "130    1\n",
              "Name: collision, Length: 1441, dtype: int64"
            ]
          },
          "execution_count": 18,
          "metadata": {},
          "output_type": "execute_result"
        }
      ],
      "source": [
        "y=[]\n",
        "y = final_training_df.iloc[:,-1]\n",
        "y\n"
      ]
    },
    {
      "cell_type": "code",
      "execution_count": null,
      "metadata": {
        "id": "loDIBBC4YwYx"
      },
      "outputs": [],
      "source": [
        "X_train_torch, X_test_torch, y_train_torch, y_test_torch = train_test_split(X, y, test_size=0.25, random_state=12)"
      ]
    },
    {
      "cell_type": "code",
      "execution_count": null,
      "metadata": {
        "id": "FZxa5GJxYwYy"
      },
      "outputs": [],
      "source": [
        "#X_train\n",
        "#y_train\n",
        "#X_test\n",
        "#y_test"
      ]
    },
    {
      "cell_type": "code",
      "execution_count": null,
      "metadata": {
        "id": "E4AfTXe-YwYy",
        "outputId": "68c7f649-210e-4a6e-a581-a423c9d66d3e"
      },
      "outputs": [
        {
          "data": {
            "text/plain": [
              "68     0\n",
              "66     0\n",
              "110    1\n",
              "15     0\n",
              "59     0\n",
              "      ..\n",
              "39     0\n",
              "104    1\n",
              "86     0\n",
              "98     0\n",
              "104    1\n",
              "Name: collision, Length: 1080, dtype: int64"
            ]
          },
          "execution_count": 21,
          "metadata": {},
          "output_type": "execute_result"
        }
      ],
      "source": [
        "scaler = StandardScaler()\n",
        "X_train_torch = scaler.fit_transform(X_train_torch)\n",
        "X_test_torch = scaler.transform(X_test_torch)\n",
        "y_train_torch"
      ]
    },
    {
      "cell_type": "code",
      "execution_count": null,
      "metadata": {
        "id": "9ldJI216YwYy",
        "outputId": "97272d0b-bbcb-4b14-986c-7fadb4c7027e"
      },
      "outputs": [
        {
          "data": {
            "text/plain": [
              "tensor([0, 0, 1,  ..., 0, 0, 1])"
            ]
          },
          "execution_count": 22,
          "metadata": {},
          "output_type": "execute_result"
        }
      ],
      "source": [
        "EPOCHS = 50\n",
        "BATCH_SIZE = 64\n",
        "LEARNING_RATE = 0.0005\n",
        "# creating DataFrame from targets_data\n",
        "targets_df = pd.DataFrame(data=y_train_torch)\n",
        "targets_df.columns = ['targets']\n",
        "\n",
        "# creating tensor from targets_df \n",
        "torch_tensor = torch.tensor(targets_df['targets'].values)\n",
        "torch_tensor\n"
      ]
    },
    {
      "cell_type": "code",
      "execution_count": null,
      "metadata": {
        "id": "COq3uQDHYwYy"
      },
      "outputs": [],
      "source": [
        "## train data\n",
        "\n",
        "#y data = torch_tensor.values\n",
        "class trainData(Dataset):\n",
        "    \n",
        "    def __init__(self, X_data, y_data):\n",
        "        self.X_data = X_data\n",
        "        self.y_data = y_data\n",
        "        \n",
        "    def __getitem__(self, index):\n",
        "        return self.X_data[index], self.y_data[index]\n",
        "        \n",
        "    def __len__ (self):\n",
        "        return len(self.X_data)\n",
        "\n",
        "\n",
        "train_data = trainData(torch.FloatTensor(X_train_torch), \n",
        "                      torch_tensor)\n",
        "## test data    \n",
        "class testData(Dataset):\n",
        "    \n",
        "    def __init__(self, X_data):\n",
        "        self.X_data = X_data\n",
        "        \n",
        "    def __getitem__(self, index):\n",
        "        return self.X_data[index]\n",
        "        \n",
        "    def __len__ (self):\n",
        "        return len(self.X_data)\n",
        "    \n",
        "\n",
        "test_data = testData(torch.FloatTensor(X_test_torch))"
      ]
    },
    {
      "cell_type": "code",
      "execution_count": null,
      "metadata": {
        "id": "P64lno2GYwYz"
      },
      "outputs": [],
      "source": [
        ""
      ]
    },
    {
      "cell_type": "code",
      "execution_count": null,
      "metadata": {
        "id": "hO22gTkIYwYz"
      },
      "outputs": [],
      "source": [
        "train_loader = DataLoader(dataset=train_data, batch_size=BATCH_SIZE, shuffle=True)\n",
        "test_loader = DataLoader(dataset=test_data, batch_size=1)"
      ]
    },
    {
      "cell_type": "code",
      "execution_count": null,
      "metadata": {
        "id": "eRVKwJBaYwYz"
      },
      "outputs": [],
      "source": [
        "class binaryClassification(nn.Module):\n",
        "    def __init__(self):\n",
        "        super(binaryClassification, self).__init__()\n",
        "        # Number of input features is 39.\n",
        "        self.layer_1 = nn.Linear(39, 64) \n",
        "        self.layer_2 = nn.Linear(64, 64)\n",
        "        self.layer_out = nn.Linear(64, 1) \n",
        "        \n",
        "        self.relu = nn.ReLU()\n",
        "        self.dropout = nn.Dropout(p=0.1)\n",
        "        self.batchnorm1 = nn.BatchNorm1d(64)\n",
        "        self.batchnorm2 = nn.BatchNorm1d(64)\n",
        "        \n",
        "    def forward(self, inputs):\n",
        "        x = self.relu(self.layer_1(inputs))\n",
        "        x = self.batchnorm1(x)\n",
        "        x = self.relu(self.layer_2(x))\n",
        "        x = self.batchnorm2(x)\n",
        "        x = self.dropout(x)\n",
        "        x = self.layer_out(x)\n",
        "        \n",
        "        return x"
      ]
    },
    {
      "cell_type": "code",
      "execution_count": null,
      "metadata": {
        "id": "WH14pYNfYwYz",
        "outputId": "97198f4a-7d3c-4ea9-e196-c881effd2368"
      },
      "outputs": [
        {
          "name": "stdout",
          "output_type": "stream",
          "text": [
            "cpu\n"
          ]
        }
      ],
      "source": [
        "device = torch.device(\"cuda:0\" if torch.cuda.is_available() else \"cpu\")\n",
        "print(device)"
      ]
    },
    {
      "cell_type": "code",
      "execution_count": null,
      "metadata": {
        "id": "By5ZxtcSYwY0",
        "outputId": "f6ac6ef5-507e-4ebf-cb04-30263b5a63e3"
      },
      "outputs": [
        {
          "name": "stdout",
          "output_type": "stream",
          "text": [
            "binaryClassification(\n",
            "  (layer_1): Linear(in_features=39, out_features=64, bias=True)\n",
            "  (layer_2): Linear(in_features=64, out_features=64, bias=True)\n",
            "  (layer_out): Linear(in_features=64, out_features=1, bias=True)\n",
            "  (relu): ReLU()\n",
            "  (dropout): Dropout(p=0.1, inplace=False)\n",
            "  (batchnorm1): BatchNorm1d(64, eps=1e-05, momentum=0.1, affine=True, track_running_stats=True)\n",
            "  (batchnorm2): BatchNorm1d(64, eps=1e-05, momentum=0.1, affine=True, track_running_stats=True)\n",
            ")\n"
          ]
        }
      ],
      "source": [
        "model = binaryClassification()\n",
        "model.to(device)\n",
        "print(model)\n",
        "criterion = nn.BCEWithLogitsLoss()\n",
        "optimizer = optim.Adam(model.parameters(), lr=LEARNING_RATE)"
      ]
    },
    {
      "cell_type": "code",
      "execution_count": null,
      "metadata": {
        "id": "GCZXBCcHYwY0"
      },
      "outputs": [],
      "source": [
        "def binary_acc(y_pred, y_test):\n",
        "    y_pred_tag = torch.round(torch.sigmoid(y_pred))\n",
        "\n",
        "    correct_results_sum = (y_pred_tag == y_test).sum().float()\n",
        "    acc = correct_results_sum/y_test.shape[0]\n",
        "    acc = torch.round(acc * 100)\n",
        "    \n",
        "    return acc"
      ]
    },
    {
      "cell_type": "code",
      "execution_count": null,
      "metadata": {
        "id": "HMvUwe33YwY0",
        "outputId": "6a54a068-e6c7-4ac4-c61d-9ee6e4610c37"
      },
      "outputs": [
        {
          "data": {
            "text/plain": [
              "361"
            ]
          },
          "execution_count": 29,
          "metadata": {},
          "output_type": "execute_result"
        }
      ],
      "source": [
        "y_test_torch.shape[0]"
      ]
    },
    {
      "cell_type": "code",
      "execution_count": null,
      "metadata": {
        "id": "rD8tTP9sYwY0",
        "outputId": "6f094865-a801-45db-d211-0c0e4478440e"
      },
      "outputs": [
        {
          "name": "stdout",
          "output_type": "stream",
          "text": [
            "Epoch   1: | Loss: 0.48650 | Acc: 80.765\n",
            "Epoch   2: | Loss: 0.24718 | Acc: 96.412\n",
            "Epoch   3: | Loss: 0.18470 | Acc: 98.471\n",
            "Epoch   4: | Loss: 0.14023 | Acc: 99.000\n",
            "Epoch   5: | Loss: 0.11798 | Acc: 98.647\n",
            "Epoch   6: | Loss: 0.10014 | Acc: 99.000\n",
            "Epoch   7: | Loss: 0.09880 | Acc: 98.353\n",
            "Epoch   8: | Loss: 0.09360 | Acc: 98.471\n",
            "Epoch   9: | Loss: 0.07040 | Acc: 99.000\n",
            "Epoch  10: | Loss: 0.06632 | Acc: 98.647\n",
            "Epoch  11: | Loss: 0.05309 | Acc: 99.235\n",
            "Epoch  12: | Loss: 0.04606 | Acc: 99.412\n",
            "Epoch  13: | Loss: 0.05460 | Acc: 98.706\n",
            "Epoch  14: | Loss: 0.04916 | Acc: 98.941\n",
            "Epoch  15: | Loss: 0.04006 | Acc: 99.118\n",
            "Epoch  16: | Loss: 0.03759 | Acc: 99.235\n",
            "Epoch  17: | Loss: 0.03670 | Acc: 99.235\n",
            "Epoch  18: | Loss: 0.03447 | Acc: 99.294\n",
            "Epoch  19: | Loss: 0.03068 | Acc: 99.353\n",
            "Epoch  20: | Loss: 0.03263 | Acc: 99.118\n",
            "Epoch  21: | Loss: 0.02964 | Acc: 99.176\n",
            "Epoch  22: | Loss: 0.03342 | Acc: 99.000\n",
            "Epoch  23: | Loss: 0.03319 | Acc: 99.176\n",
            "Epoch  24: | Loss: 0.04244 | Acc: 98.882\n",
            "Epoch  25: | Loss: 0.03044 | Acc: 99.294\n",
            "Epoch  26: | Loss: 0.02705 | Acc: 99.353\n",
            "Epoch  27: | Loss: 0.03270 | Acc: 99.353\n",
            "Epoch  28: | Loss: 0.02485 | Acc: 99.412\n",
            "Epoch  29: | Loss: 0.03179 | Acc: 99.118\n",
            "Epoch  30: | Loss: 0.02576 | Acc: 99.412\n",
            "Epoch  31: | Loss: 0.03546 | Acc: 98.882\n",
            "Epoch  32: | Loss: 0.02877 | Acc: 99.176\n",
            "Epoch  33: | Loss: 0.02481 | Acc: 99.294\n",
            "Epoch  34: | Loss: 0.02783 | Acc: 99.118\n",
            "Epoch  35: | Loss: 0.02356 | Acc: 99.294\n",
            "Epoch  36: | Loss: 0.02603 | Acc: 98.941\n",
            "Epoch  37: | Loss: 0.02620 | Acc: 99.176\n",
            "Epoch  38: | Loss: 0.03715 | Acc: 98.824\n",
            "Epoch  39: | Loss: 0.02399 | Acc: 99.235\n",
            "Epoch  40: | Loss: 0.02233 | Acc: 99.412\n",
            "Epoch  41: | Loss: 0.02493 | Acc: 99.118\n",
            "Epoch  42: | Loss: 0.02150 | Acc: 99.294\n",
            "Epoch  43: | Loss: 0.02493 | Acc: 99.118\n",
            "Epoch  44: | Loss: 0.02228 | Acc: 99.235\n",
            "Epoch  45: | Loss: 0.02047 | Acc: 99.353\n",
            "Epoch  46: | Loss: 0.02108 | Acc: 99.294\n",
            "Epoch  47: | Loss: 0.02477 | Acc: 99.353\n",
            "Epoch  48: | Loss: 0.01969 | Acc: 99.353\n",
            "Epoch  49: | Loss: 0.02099 | Acc: 99.176\n",
            "Epoch  50: | Loss: 0.01806 | Acc: 99.412\n"
          ]
        }
      ],
      "source": [
        "model.train()\n",
        "for e in range(1, EPOCHS+1):\n",
        "    epoch_loss = 0\n",
        "    epoch_acc = 0\n",
        "    for X_batch, y_batch in train_loader:\n",
        "        optimizer.zero_grad()\n",
        "       # print(X_batch, \"break\",y_batch)\n",
        "        y_pred = model(X_batch)\n",
        "        #Troubleshoot\n",
        "        #print (y_pred.dtype)\n",
        "        #print(y_batch.unsqueeze(1).dtype)\n",
        "        #\n",
        "        loss = criterion(y_pred, y_batch.unsqueeze(1).float())\n",
        "        acc = binary_acc(y_pred, y_batch.unsqueeze(1))\n",
        "        \n",
        "        loss.backward()\n",
        "        optimizer.step()\n",
        "        \n",
        "        epoch_loss += loss.item()\n",
        "        epoch_acc += acc.item()\n",
        "        \n",
        "\n",
        "    print(f'Epoch {e+0:3}: | Loss: {epoch_loss/len(train_loader):.5f} | Acc: {epoch_acc/len(train_loader):.3f}')"
      ]
    },
    {
      "cell_type": "code",
      "execution_count": null,
      "metadata": {
        "id": "PhpYAqM0YwY0"
      },
      "outputs": [],
      "source": [
        "y_pred_list = []\n",
        "model.eval()\n",
        "with torch.no_grad():\n",
        "    for X_batch in test_loader:\n",
        "        X_batch = X_batch.to(device)\n",
        "        y_test_pred = model(X_batch)\n",
        "        y_test_pred = torch.sigmoid(y_test_pred)\n",
        "        y_pred_tag = torch.round(y_test_pred)\n",
        "        y_pred_list.append(y_pred_tag.cpu().numpy())\n",
        "\n",
        "y_pred_list = [a.squeeze().tolist() for a in y_pred_list]"
      ]
    },
    {
      "cell_type": "code",
      "execution_count": null,
      "metadata": {
        "id": "bGTMI7nyYwY1",
        "outputId": "feb1ba25-77c9-434f-fa74-92891062f9b4"
      },
      "outputs": [
        {
          "name": "stdout",
          "output_type": "stream",
          "text": [
            "              precision    recall  f1-score   support\n",
            "\n",
            "           0       0.99      1.00      0.99       276\n",
            "           1       1.00      0.96      0.98        85\n",
            "\n",
            "    accuracy                           0.99       361\n",
            "   macro avg       0.99      0.98      0.99       361\n",
            "weighted avg       0.99      0.99      0.99       361\n",
            "\n"
          ]
        }
      ],
      "source": [
        "correct_results = (y_pred_list == y_test_torch).sum()\n",
        "acccu=(correct_results/len(y_test_torch))*100\n",
        "print(classification_report(y_test_torch, y_pred_list))"
      ]
    },
    {
      "cell_type": "code",
      "execution_count": null,
      "metadata": {
        "id": "IG-OExwcYwY1",
        "outputId": "d9b77799-d945-489e-9b09-da5c7a446da9"
      },
      "outputs": [
        {
          "data": {
            "text/plain": [
              "99.16897506925207"
            ]
          },
          "execution_count": 33,
          "metadata": {},
          "output_type": "execute_result"
        }
      ],
      "source": [
        "acccu"
      ]
    },
    {
      "cell_type": "code",
      "execution_count": null,
      "metadata": {
        "id": "J5cTmz4UYwY1"
      },
      "outputs": [],
      "source": [
        ""
      ]
    },
    {
      "cell_type": "code",
      "execution_count": null,
      "metadata": {
        "id": "KkWXl_i5YwY1",
        "outputId": "446e9ed0-8203-4e4e-d09f-d787bf2308b0"
      },
      "outputs": [
        {
          "data": {
            "text/html": [
              "<div>\n",
              "<style scoped>\n",
              "    .dataframe tbody tr th:only-of-type {\n",
              "        vertical-align: middle;\n",
              "    }\n",
              "\n",
              "    .dataframe tbody tr th {\n",
              "        vertical-align: top;\n",
              "    }\n",
              "\n",
              "    .dataframe thead th {\n",
              "        text-align: right;\n",
              "    }\n",
              "</style>\n",
              "<table border=\"1\" class=\"dataframe\">\n",
              "  <thead>\n",
              "    <tr style=\"text-align: right;\">\n",
              "      <th></th>\n",
              "      <th>dist0</th>\n",
              "      <th>dist1</th>\n",
              "      <th>dist2</th>\n",
              "      <th>dist3</th>\n",
              "      <th>dist4</th>\n",
              "      <th>dist5</th>\n",
              "      <th>dist6</th>\n",
              "      <th>dist7</th>\n",
              "      <th>dist8</th>\n",
              "      <th>dist9</th>\n",
              "      <th>...</th>\n",
              "      <th>dist30</th>\n",
              "      <th>dist_min</th>\n",
              "      <th>dist_mean</th>\n",
              "      <th>projected_dist_1</th>\n",
              "      <th>projected_dist_2</th>\n",
              "      <th>projected_dist_3</th>\n",
              "      <th>projected_dist_min</th>\n",
              "      <th>projected_dist_mean</th>\n",
              "      <th>binary_intersect</th>\n",
              "      <th>collision</th>\n",
              "    </tr>\n",
              "  </thead>\n",
              "  <tbody>\n",
              "    <tr>\n",
              "      <th>0</th>\n",
              "      <td>296.685571</td>\n",
              "      <td>294.403207</td>\n",
              "      <td>292.120843</td>\n",
              "      <td>289.838480</td>\n",
              "      <td>287.556118</td>\n",
              "      <td>285.273757</td>\n",
              "      <td>282.991396</td>\n",
              "      <td>280.709036</td>\n",
              "      <td>278.426676</td>\n",
              "      <td>276.144318</td>\n",
              "      <td>...</td>\n",
              "      <td>228.215007</td>\n",
              "      <td>228.215007</td>\n",
              "      <td>262.450221</td>\n",
              "      <td>273.861960</td>\n",
              "      <td>251.038430</td>\n",
              "      <td>228.215007</td>\n",
              "      <td>228.215007</td>\n",
              "      <td>251.038466</td>\n",
              "      <td>0</td>\n",
              "      <td>0</td>\n",
              "    </tr>\n",
              "    <tr>\n",
              "      <th>1</th>\n",
              "      <td>294.403207</td>\n",
              "      <td>292.120843</td>\n",
              "      <td>289.838480</td>\n",
              "      <td>287.556118</td>\n",
              "      <td>285.273757</td>\n",
              "      <td>282.991396</td>\n",
              "      <td>280.709036</td>\n",
              "      <td>278.426676</td>\n",
              "      <td>276.144318</td>\n",
              "      <td>273.861960</td>\n",
              "      <td>...</td>\n",
              "      <td>225.932671</td>\n",
              "      <td>225.932671</td>\n",
              "      <td>260.167869</td>\n",
              "      <td>271.579603</td>\n",
              "      <td>248.756083</td>\n",
              "      <td>225.932671</td>\n",
              "      <td>225.932671</td>\n",
              "      <td>248.756119</td>\n",
              "      <td>0</td>\n",
              "      <td>0</td>\n",
              "    </tr>\n",
              "    <tr>\n",
              "      <th>2</th>\n",
              "      <td>292.120843</td>\n",
              "      <td>289.838480</td>\n",
              "      <td>287.556118</td>\n",
              "      <td>285.273757</td>\n",
              "      <td>282.991396</td>\n",
              "      <td>280.709036</td>\n",
              "      <td>278.426676</td>\n",
              "      <td>276.144318</td>\n",
              "      <td>273.861960</td>\n",
              "      <td>271.579603</td>\n",
              "      <td>...</td>\n",
              "      <td>223.650338</td>\n",
              "      <td>223.650338</td>\n",
              "      <td>257.885519</td>\n",
              "      <td>269.297247</td>\n",
              "      <td>246.473736</td>\n",
              "      <td>223.650338</td>\n",
              "      <td>223.650338</td>\n",
              "      <td>246.473774</td>\n",
              "      <td>0</td>\n",
              "      <td>0</td>\n",
              "    </tr>\n",
              "    <tr>\n",
              "      <th>3</th>\n",
              "      <td>289.838480</td>\n",
              "      <td>287.556118</td>\n",
              "      <td>285.273757</td>\n",
              "      <td>282.991396</td>\n",
              "      <td>280.709036</td>\n",
              "      <td>278.426676</td>\n",
              "      <td>276.144318</td>\n",
              "      <td>273.861960</td>\n",
              "      <td>271.579603</td>\n",
              "      <td>269.297247</td>\n",
              "      <td>...</td>\n",
              "      <td>221.368005</td>\n",
              "      <td>221.368005</td>\n",
              "      <td>255.603169</td>\n",
              "      <td>267.014892</td>\n",
              "      <td>244.191391</td>\n",
              "      <td>221.368005</td>\n",
              "      <td>221.368005</td>\n",
              "      <td>244.191429</td>\n",
              "      <td>0</td>\n",
              "      <td>0</td>\n",
              "    </tr>\n",
              "    <tr>\n",
              "      <th>4</th>\n",
              "      <td>287.556118</td>\n",
              "      <td>285.273757</td>\n",
              "      <td>282.991396</td>\n",
              "      <td>280.709036</td>\n",
              "      <td>278.426676</td>\n",
              "      <td>276.144318</td>\n",
              "      <td>273.861960</td>\n",
              "      <td>271.579603</td>\n",
              "      <td>269.297247</td>\n",
              "      <td>267.014892</td>\n",
              "      <td>...</td>\n",
              "      <td>219.085674</td>\n",
              "      <td>219.085674</td>\n",
              "      <td>253.320820</td>\n",
              "      <td>264.732537</td>\n",
              "      <td>241.909047</td>\n",
              "      <td>219.085674</td>\n",
              "      <td>219.085674</td>\n",
              "      <td>241.909086</td>\n",
              "      <td>0</td>\n",
              "      <td>0</td>\n",
              "    </tr>\n",
              "    <tr>\n",
              "      <th>...</th>\n",
              "      <td>...</td>\n",
              "      <td>...</td>\n",
              "      <td>...</td>\n",
              "      <td>...</td>\n",
              "      <td>...</td>\n",
              "      <td>...</td>\n",
              "      <td>...</td>\n",
              "      <td>...</td>\n",
              "      <td>...</td>\n",
              "      <td>...</td>\n",
              "      <td>...</td>\n",
              "      <td>...</td>\n",
              "      <td>...</td>\n",
              "      <td>...</td>\n",
              "      <td>...</td>\n",
              "      <td>...</td>\n",
              "      <td>...</td>\n",
              "      <td>...</td>\n",
              "      <td>...</td>\n",
              "      <td>...</td>\n",
              "      <td>...</td>\n",
              "    </tr>\n",
              "    <tr>\n",
              "      <th>126</th>\n",
              "      <td>15.147147</td>\n",
              "      <td>11.485088</td>\n",
              "      <td>7.848244</td>\n",
              "      <td>4.301058</td>\n",
              "      <td>1.618563</td>\n",
              "      <td>3.735891</td>\n",
              "      <td>7.246413</td>\n",
              "      <td>10.875689</td>\n",
              "      <td>14.535034</td>\n",
              "      <td>18.206325</td>\n",
              "      <td>...</td>\n",
              "      <td>95.617693</td>\n",
              "      <td>1.618563</td>\n",
              "      <td>42.856738</td>\n",
              "      <td>0.000000</td>\n",
              "      <td>21.883552</td>\n",
              "      <td>58.736634</td>\n",
              "      <td>0.000000</td>\n",
              "      <td>26.873395</td>\n",
              "      <td>1</td>\n",
              "      <td>1</td>\n",
              "    </tr>\n",
              "    <tr>\n",
              "      <th>127</th>\n",
              "      <td>11.485088</td>\n",
              "      <td>7.848244</td>\n",
              "      <td>4.301058</td>\n",
              "      <td>1.618563</td>\n",
              "      <td>3.735891</td>\n",
              "      <td>7.246413</td>\n",
              "      <td>10.875689</td>\n",
              "      <td>14.535034</td>\n",
              "      <td>18.206325</td>\n",
              "      <td>21.883552</td>\n",
              "      <td>...</td>\n",
              "      <td>99.306137</td>\n",
              "      <td>1.618563</td>\n",
              "      <td>45.571544</td>\n",
              "      <td>0.000000</td>\n",
              "      <td>25.564153</td>\n",
              "      <td>62.424299</td>\n",
              "      <td>0.000000</td>\n",
              "      <td>29.329484</td>\n",
              "      <td>1</td>\n",
              "      <td>1</td>\n",
              "    </tr>\n",
              "    <tr>\n",
              "      <th>128</th>\n",
              "      <td>7.848244</td>\n",
              "      <td>4.301058</td>\n",
              "      <td>1.618563</td>\n",
              "      <td>3.735891</td>\n",
              "      <td>7.246413</td>\n",
              "      <td>10.875689</td>\n",
              "      <td>14.535034</td>\n",
              "      <td>18.206325</td>\n",
              "      <td>21.883552</td>\n",
              "      <td>25.564153</td>\n",
              "      <td>...</td>\n",
              "      <td>102.994617</td>\n",
              "      <td>1.618563</td>\n",
              "      <td>48.523465</td>\n",
              "      <td>0.000000</td>\n",
              "      <td>29.246853</td>\n",
              "      <td>66.112106</td>\n",
              "      <td>0.000000</td>\n",
              "      <td>31.786320</td>\n",
              "      <td>1</td>\n",
              "      <td>1</td>\n",
              "    </tr>\n",
              "    <tr>\n",
              "      <th>129</th>\n",
              "      <td>4.301057</td>\n",
              "      <td>1.618563</td>\n",
              "      <td>3.735891</td>\n",
              "      <td>7.246413</td>\n",
              "      <td>10.875689</td>\n",
              "      <td>14.535034</td>\n",
              "      <td>18.206325</td>\n",
              "      <td>21.883552</td>\n",
              "      <td>25.564153</td>\n",
              "      <td>29.246853</td>\n",
              "      <td>...</td>\n",
              "      <td>106.683129</td>\n",
              "      <td>1.618563</td>\n",
              "      <td>51.711687</td>\n",
              "      <td>0.000000</td>\n",
              "      <td>32.930950</td>\n",
              "      <td>69.800032</td>\n",
              "      <td>0.000000</td>\n",
              "      <td>34.243660</td>\n",
              "      <td>1</td>\n",
              "      <td>1</td>\n",
              "    </tr>\n",
              "    <tr>\n",
              "      <th>130</th>\n",
              "      <td>1.618563</td>\n",
              "      <td>3.735891</td>\n",
              "      <td>7.246413</td>\n",
              "      <td>10.875689</td>\n",
              "      <td>14.535034</td>\n",
              "      <td>18.206325</td>\n",
              "      <td>21.883552</td>\n",
              "      <td>25.564153</td>\n",
              "      <td>29.246853</td>\n",
              "      <td>32.930950</td>\n",
              "      <td>...</td>\n",
              "      <td>110.371668</td>\n",
              "      <td>1.618563</td>\n",
              "      <td>55.133319</td>\n",
              "      <td>1.168321</td>\n",
              "      <td>36.616021</td>\n",
              "      <td>73.488059</td>\n",
              "      <td>1.168321</td>\n",
              "      <td>37.090800</td>\n",
              "      <td>0</td>\n",
              "      <td>1</td>\n",
              "    </tr>\n",
              "  </tbody>\n",
              "</table>\n",
              "<p>1441 rows × 40 columns</p>\n",
              "</div>"
            ],
            "text/plain": [
              "          dist0       dist1       dist2       dist3       dist4       dist5  \\\n",
              "0    296.685571  294.403207  292.120843  289.838480  287.556118  285.273757   \n",
              "1    294.403207  292.120843  289.838480  287.556118  285.273757  282.991396   \n",
              "2    292.120843  289.838480  287.556118  285.273757  282.991396  280.709036   \n",
              "3    289.838480  287.556118  285.273757  282.991396  280.709036  278.426676   \n",
              "4    287.556118  285.273757  282.991396  280.709036  278.426676  276.144318   \n",
              "..          ...         ...         ...         ...         ...         ...   \n",
              "126   15.147147   11.485088    7.848244    4.301058    1.618563    3.735891   \n",
              "127   11.485088    7.848244    4.301058    1.618563    3.735891    7.246413   \n",
              "128    7.848244    4.301058    1.618563    3.735891    7.246413   10.875689   \n",
              "129    4.301057    1.618563    3.735891    7.246413   10.875689   14.535034   \n",
              "130    1.618563    3.735891    7.246413   10.875689   14.535034   18.206325   \n",
              "\n",
              "          dist6       dist7       dist8       dist9  ...      dist30  \\\n",
              "0    282.991396  280.709036  278.426676  276.144318  ...  228.215007   \n",
              "1    280.709036  278.426676  276.144318  273.861960  ...  225.932671   \n",
              "2    278.426676  276.144318  273.861960  271.579603  ...  223.650338   \n",
              "3    276.144318  273.861960  271.579603  269.297247  ...  221.368005   \n",
              "4    273.861960  271.579603  269.297247  267.014892  ...  219.085674   \n",
              "..          ...         ...         ...         ...  ...         ...   \n",
              "126    7.246413   10.875689   14.535034   18.206325  ...   95.617693   \n",
              "127   10.875689   14.535034   18.206325   21.883552  ...   99.306137   \n",
              "128   14.535034   18.206325   21.883552   25.564153  ...  102.994617   \n",
              "129   18.206325   21.883552   25.564153   29.246853  ...  106.683129   \n",
              "130   21.883552   25.564153   29.246853   32.930950  ...  110.371668   \n",
              "\n",
              "       dist_min   dist_mean  projected_dist_1  projected_dist_2  \\\n",
              "0    228.215007  262.450221        273.861960        251.038430   \n",
              "1    225.932671  260.167869        271.579603        248.756083   \n",
              "2    223.650338  257.885519        269.297247        246.473736   \n",
              "3    221.368005  255.603169        267.014892        244.191391   \n",
              "4    219.085674  253.320820        264.732537        241.909047   \n",
              "..          ...         ...               ...               ...   \n",
              "126    1.618563   42.856738          0.000000         21.883552   \n",
              "127    1.618563   45.571544          0.000000         25.564153   \n",
              "128    1.618563   48.523465          0.000000         29.246853   \n",
              "129    1.618563   51.711687          0.000000         32.930950   \n",
              "130    1.618563   55.133319          1.168321         36.616021   \n",
              "\n",
              "     projected_dist_3  projected_dist_min  projected_dist_mean  \\\n",
              "0          228.215007          228.215007           251.038466   \n",
              "1          225.932671          225.932671           248.756119   \n",
              "2          223.650338          223.650338           246.473774   \n",
              "3          221.368005          221.368005           244.191429   \n",
              "4          219.085674          219.085674           241.909086   \n",
              "..                ...                 ...                  ...   \n",
              "126         58.736634            0.000000            26.873395   \n",
              "127         62.424299            0.000000            29.329484   \n",
              "128         66.112106            0.000000            31.786320   \n",
              "129         69.800032            0.000000            34.243660   \n",
              "130         73.488059            1.168321            37.090800   \n",
              "\n",
              "     binary_intersect  collision  \n",
              "0                   0          0  \n",
              "1                   0          0  \n",
              "2                   0          0  \n",
              "3                   0          0  \n",
              "4                   0          0  \n",
              "..                ...        ...  \n",
              "126                 1          1  \n",
              "127                 1          1  \n",
              "128                 1          1  \n",
              "129                 1          1  \n",
              "130                 0          1  \n",
              "\n",
              "[1441 rows x 40 columns]"
            ]
          },
          "execution_count": 34,
          "metadata": {},
          "output_type": "execute_result"
        }
      ],
      "source": [
        "#Evaluating on odd dataset\n",
        "final_testing_df"
      ]
    },
    {
      "cell_type": "code",
      "execution_count": null,
      "metadata": {
        "id": "H3K9Mp_3YwY2"
      },
      "outputs": [],
      "source": [
        "#TEMPLATE\n",
        "# X = final_training_df.drop('collision', axis=1)\n",
        "# y = final_training_df['collision']\n",
        "\n",
        "# X_train = X\n",
        "# y_train = y\n",
        "# test_data = testData(torch.FloatTensor(X_test))\n",
        "# test_loader = DataLoader(dataset=test_data, batch_size=1"
      ]
    },
    {
      "cell_type": "code",
      "execution_count": null,
      "metadata": {
        "id": "zov-9lPAYwY2"
      },
      "outputs": [],
      "source": [
        "X_test_odd = final_testing_df.drop('collision',axis=1)\n",
        "X_test_odd = scaler.transform(X_test_odd)\n",
        "test_data_odd = testData(torch.FloatTensor(X_test_odd))\n",
        "test_loader_odd = DataLoader(dataset=test_data_odd, batch_size=1)"
      ]
    },
    {
      "cell_type": "code",
      "execution_count": null,
      "metadata": {
        "id": "VILe7XkHYwY2"
      },
      "outputs": [],
      "source": [
        "y_pred_list_odd = []\n",
        "model.eval()\n",
        "with torch.no_grad():\n",
        "    for X_batch in test_loader_odd:\n",
        "        X_batch = X_batch.to(device)\n",
        "        y_test_pred_odd = model(X_batch)\n",
        "        y_test_pred_odd = torch.sigmoid(y_test_pred_odd)\n",
        "        y_pred_tag_odd = torch.round(y_test_pred_odd)\n",
        "        y_pred_list_odd.append(y_pred_tag_odd.cpu().numpy())\n",
        "\n",
        "y_pred_list_odd = [a.squeeze().tolist() for a in y_pred_list_odd]"
      ]
    },
    {
      "cell_type": "code",
      "execution_count": null,
      "metadata": {
        "id": "HZyC1ZglYwY2",
        "outputId": "9fca0e6c-0f8f-4abd-bd3a-a9e9067380c8"
      },
      "outputs": [
        {
          "name": "stdout",
          "output_type": "stream",
          "text": [
            "              precision    recall  f1-score   support\n",
            "\n",
            "           0       0.99      1.00      1.00      1100\n",
            "           1       1.00      0.98      0.99       341\n",
            "\n",
            "    accuracy                           0.99      1441\n",
            "   macro avg       1.00      0.99      0.99      1441\n",
            "weighted avg       0.99      0.99      0.99      1441\n",
            "\n"
          ]
        }
      ],
      "source": [
        "correct_results_odd = (y_pred_list_odd == final_testing_df['collision']).sum()\n",
        "acccu_odd=(correct_results_odd/len(final_testing_df))*100\n",
        "print(classification_report(final_testing_df['collision'], y_pred_list_odd))"
      ]
    },
    {
      "cell_type": "code",
      "execution_count": null,
      "metadata": {
        "id": "wrGp9O2eYwY2",
        "outputId": "208e22d3-6a5b-49a1-ae57-b982cf46bbd6"
      },
      "outputs": [
        {
          "data": {
            "text/plain": [
              "99.44482997918112"
            ]
          },
          "execution_count": 39,
          "metadata": {},
          "output_type": "execute_result"
        }
      ],
      "source": [
        "acccu_odd"
      ]
    },
    {
      "cell_type": "code",
      "execution_count": null,
      "metadata": {
        "id": "T6BezhOhYwY2",
        "outputId": "ae55829b-904a-4d0f-f6ab-0717eff2fc0b"
      },
      "outputs": [
        {
          "name": "stdout",
          "output_type": "stream",
          "text": [
            "Precision Score:\n",
            " MLP:      0.9941690962099126 \n",
            " Pytorch:  1.0 \n",
            " RF:       0.9941520467836257 \n",
            " XGBoost:  0.9935897435897436\n",
            "Recall Score:\n",
            " MLP:      1.0 \n",
            " Pytorch:  0.9765395894428153 \n",
            " RF:       0.9970674486803519 \n",
            " XGBoost:  0.9090909090909091\n",
            "F1 Score:\n",
            " MLP:      0.9970760233918129 \n",
            " Pytorch:  0.9881305637982196 \n",
            " RF:       0.9956076134699854 \n",
            " XGBoost:  0.9494640122511485\n"
          ]
        }
      ],
      "source": [
        "print(\"Precision Score:\\n\",\"MLP:     \", precision_score(y_test,y_pred_mlp),'\\n',\"Pytorch: \",precision_score(final_testing_df['collision'],y_pred_list_odd),\"\\n\",\"RF:      \",\n",
        "      precision_score(y_test,y_pred_rf),\"\\n\",\"XGBoost: \",precision_score(y_test,y_pred_xgb))\n",
        "print(\"Recall Score:\\n\",\"MLP:     \", recall_score(y_test,y_pred_mlp),'\\n',\"Pytorch: \",recall_score(final_testing_df['collision'],y_pred_list_odd),\"\\n\",\"RF:      \",\n",
        "      recall_score(y_test,y_pred_rf),\"\\n\",\"XGBoost: \",recall_score(y_test,y_pred_xgb))\n",
        "print(\"F1 Score:\\n\",\"MLP:     \", f1_score(y_test,y_pred_mlp),'\\n',\"Pytorch: \",f1_score(final_testing_df['collision'],y_pred_list_odd),\"\\n\",\"RF:      \",\n",
        "      f1_score(y_test,y_pred_rf),\"\\n\",\"XGBoost: \",f1_score(y_test,y_pred_xgb))"
      ]
    },
    {
      "cell_type": "code",
      "execution_count": null,
      "metadata": {
        "id": "9nKCsEnfYwY3",
        "outputId": "47498ff6-6adf-4613-a975-189cd2d45f5c"
      },
      "outputs": [
        {
          "data": {
            "text/plain": [
              "<sklearn.metrics._plot.confusion_matrix.ConfusionMatrixDisplay at 0x194e651a9a0>"
            ]
          },
          "execution_count": 41,
          "metadata": {},
          "output_type": "execute_result"
        },
        {
          "data": {
            "image/png": "[encoded data removed]",
            "text/plain": [
              "<Figure size 360x360 with 2 Axes>"
            ]
          },
          "metadata": {
            "needs_background": "light"
          },
          "output_type": "display_data"
        }
      ],
      "source": [
        "plot_confusion_matrix(mlp_clf, X_test, y_test, labels=None, sample_weight=None, normalize=None, cmap='YlOrRd', ax=None)"
      ]
    },
    {
      "cell_type": "code",
      "execution_count": null,
      "metadata": {
        "id": "Ka6FpIluYwY3",
        "outputId": "e3d73ac7-3d65-4588-c66d-37316f1a41a4"
      },
      "outputs": [
        {
          "data": {
            "text/plain": [
              "<sklearn.metrics._plot.confusion_matrix.ConfusionMatrixDisplay at 0x194d0c6af70>"
            ]
          },
          "execution_count": 42,
          "metadata": {},
          "output_type": "execute_result"
        },
        {
          "data": {
            "image/png": "[encoded data removed]",
            "text/plain": [
              "<Figure size 360x360 with 2 Axes>"
            ]
          },
          "metadata": {
            "needs_background": "light"
          },
          "output_type": "display_data"
        }
      ],
      "source": [
        "plot_confusion_matrix(rf_clf, X_test, y_test, labels=None, sample_weight=None, normalize=None, cmap='YlOrRd', ax=None)"
      ]
    },
    {
      "cell_type": "code",
      "execution_count": null,
      "metadata": {
        "id": "9kswqB_8YwY3",
        "outputId": "6c505c42-cdf7-4238-e326-5f249167f3eb"
      },
      "outputs": [
        {
          "data": {
            "text/plain": [
              "<sklearn.metrics._plot.confusion_matrix.ConfusionMatrixDisplay at 0x194d9a99550>"
            ]
          },
          "execution_count": 51,
          "metadata": {},
          "output_type": "execute_result"
        },
        {
          "data": {
            "image/png": "[encoded data removed]",
            "text/plain": [
              "<Figure size 360x360 with 2 Axes>"
            ]
          },
          "metadata": {
            "needs_background": "light"
          },
          "output_type": "display_data"
        }
      ],
      "source": [
        "plot_confusion_matrix(xgb_clf, X_test, y_test, labels=None, sample_weight=None, normalize=None, cmap='YlOrRd', ax=None)"
      ]
    },
    {
      "cell_type": "code",
      "execution_count": null,
      "metadata": {
        "id": "89NAvA7nYwY3",
        "outputId": "d029c9e5-0f54-4293-dfae-4fd513644804"
      },
      "outputs": [
        {
          "data": {
            "image/png": "[encoded data removed]",
            "text/plain": [
              "<Figure size 360x288 with 2 Axes>"
            ]
          },
          "metadata": {
            "needs_background": "light"
          },
          "output_type": "display_data"
        }
      ],
      "source": [
        "cf_matrix = confusion_matrix(final_testing_df['collision'],y_pred_list_odd)\n",
        "df_cm = pd.DataFrame(cf_matrix/np.sum(cf_matrix))\n",
        "plt.figure(figsize = (5,4))\n",
        "sb.heatmap(df_cm, annot=True)\n",
        "plt.savefig('output.png')"
      ]
    },
    {
      "cell_type": "code",
      "execution_count": null,
      "metadata": {
        "id": "oAyuKaD0YwY3"
      },
      "outputs": [],
      "source": [
        ""
      ]
    }
  ],
  "metadata": {
    "kernelspec": {
      "display_name": "Python 3",
      "language": "python",
      "name": "python3"
    },
    "language_info": {
      "codemirror_mode": {
        "name": "ipython",
        "version": 3
      },
      "file_extension": ".py",
      "mimetype": "text/x-python",
      "name": "python",
      "nbconvert_exporter": "python",
      "pygments_lexer": "ipython3",
      "version": "3.8.3"
    },
    "colab": {
      "name": "Copy of Vehicle_Side Collision_Predection.ipynb",
      "provenance": [],
      "include_colab_link": true
    }
  },
  "nbformat": 4,
  "nbformat_minor": 0
}